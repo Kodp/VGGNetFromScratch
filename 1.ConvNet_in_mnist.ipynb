{
 "cells": [
  {
   "attachments": {},
   "cell_type": "markdown",
   "metadata": {},
   "source": [
    "# 数据加载"
   ]
  },
  {
   "cell_type": "code",
   "execution_count": 1,
   "metadata": {
    "is_executing": true
   },
   "outputs": [
    {
     "name": "stdout",
     "output_type": "stream",
     "text": [
      "Good to go!\n"
     ]
    }
   ],
   "source": [
    "# 导入包\n",
    "\n",
    "# 自动重新加载更改后的Python模块\n",
    "%load_ext autoreload\n",
    "%autoreload 2\n",
    "\n",
    "try:\n",
    "    from google.colab import drive\n",
    "    import os\n",
    "    drive.mount('/content/drive')\n",
    "    GOOGLE_DRIVE_PATH_AFTER_MYDRIVE = 'ConvNetFromScratch'\n",
    "    GOOGLE_DRIVE_PATH = os.path.join('drive', 'My Drive', GOOGLE_DRIVE_PATH_AFTER_MYDRIVE)\n",
    "    print(os.listdir(GOOGLE_DRIVE_PATH))\n",
    "    import sys\n",
    "    sys.path.append(GOOGLE_DRIVE_PATH)\n",
    "except:\n",
    "    pass\n",
    "\n",
    "import time, os, torch, torchvision, random, time, math\n",
    "from torch import Tensor\n",
    "import torchvision\n",
    "import matplotlib.pyplot as plt\n",
    "\n",
    "%matplotlib inline\n",
    "plt.rcParams['figure.figsize'] = (6, 4)\n",
    "plt.rcParams['font.size'] = 10\n",
    "from toolset import *\n",
    "from toolset.utils import *\n",
    "from toolset.data import *\n",
    "from toolset.helper import *\n",
    "from toolset.solver import *\n",
    "from convolutional_networks import *\n",
    "from fully_connected_networks import *\n",
    "\n",
    "if torch.cuda.is_available:\n",
    "    print('Good to go!')"
   ]
  },
  {
   "cell_type": "code",
   "execution_count": 2,
   "metadata": {},
   "outputs": [
    {
     "name": "stdout",
     "output_type": "stream",
     "text": [
      "cuda\n",
      "训练数据集的形态: torch.Size([60000, 1, 28, 28])\n"
     ]
    },
    {
     "data": {
      "image/png": "[encoded data removed]",
      "text/plain": [
       "<Figure size 1200x1200 with 1 Axes>"
      ]
     },
     "metadata": {},
     "output_type": "display_data"
    }
   ],
   "source": [
    "# 数据加载\n",
    "train_data, train_labels, test_data, test_labels = get_mnist_data()\n",
    "\n",
    "device = torch.device(\"cuda\" if torch.cuda.is_available() else \"cpu\")\n",
    "print(device)\n",
    "train_data = train_data.to(device)\n",
    "train_labels = train_labels.to(device)\n",
    "test_data = test_data.to(device)\n",
    "test_labels = test_labels.to(device)\n",
    "\n",
    "data_dict = {\n",
    "    'X_train': train_data,\n",
    "    'y_train': train_labels,\n",
    "    'X_val': test_data,\n",
    "    'y_val': test_labels,\n",
    "}\n",
    "print(\"训练数据集的形态:\", train_data.shape)\n",
    "clear()\n",
    "\n",
    "tensor_to_imggrid_show(test_data[:10])\n"
   ]
  },
  {
   "attachments": {},
   "cell_type": "markdown",
   "metadata": {},
   "source": [
    "# 训练与保存"
   ]
  },
  {
   "cell_type": "code",
   "execution_count": 4,
   "metadata": {},
   "outputs": [],
   "source": [
    "reset_seed(0)\n",
    "net = ThreeLayerConvNet(\n",
    "    input_dims = (1, 28, 28),\n",
    "    num_filters = 32,\n",
    "    hidden_dim = 128,\n",
    "    num_classes = 10,\n",
    "    weight_scale = 1e-3,\n",
    "    reg = 1e-5,\n",
    "    device='cuda'\n",
    ")\n",
    "solver = Solver(net, data_dict,\n",
    "                num_epochs=1, batch_size=50,\n",
    "                optim_config={\n",
    "                'learning_rate': 0.001,\n",
    "                },\n",
    "                update_rule=adam,\n",
    "                verbose=True, device='cuda',print_every=100)"
   ]
  },
  {
   "cell_type": "code",
   "execution_count": 5,
   "metadata": {},
   "outputs": [
    {
     "name": "stdout",
     "output_type": "stream",
     "text": [
      "(用时 1.63s; 迭代次数1 / 1200) loss: 2.302594\n",
      "(Epoch 0 / 1, train 准确率: 10.80%, val准确率: 9.80%\n",
      "更新:当前准确率9.80, 大于之前的最佳准确率0.00\n",
      "\n",
      "(用时 2.13s; 迭代次数101 / 1200) loss: 0.222075\n",
      "(用时 2.60s; 迭代次数201 / 1200) loss: 0.291606\n",
      "(用时 3.05s; 迭代次数301 / 1200) loss: 0.081643\n",
      "(用时 3.52s; 迭代次数401 / 1200) loss: 0.104331\n",
      "(用时 3.99s; 迭代次数501 / 1200) loss: 0.111287\n",
      "(用时 4.44s; 迭代次数601 / 1200) loss: 0.114266\n",
      "(用时 4.90s; 迭代次数701 / 1200) loss: 0.070255\n",
      "(用时 5.35s; 迭代次数801 / 1200) loss: 0.189153\n",
      "(用时 5.81s; 迭代次数901 / 1200) loss: 0.015657\n",
      "(用时 6.26s; 迭代次数1001 / 1200) loss: 0.085352\n",
      "(用时 6.70s; 迭代次数1101 / 1200) loss: 0.080768\n",
      "(Epoch 1 / 1, train 准确率: 97.80%, val准确率: 97.75%\n",
      "更新:当前准确率97.75, 大于之前的最佳准确率9.80\n",
      "\n"
     ]
    }
   ],
   "source": [
    "reset_seed(0)\n",
    "solver.train(time_limit=600)\n",
    "# 你的模型应该能达到95%+准确率"
   ]
  },
  {
   "cell_type": "code",
   "execution_count": 6,
   "metadata": {},
   "outputs": [
    {
     "name": "stdout",
     "output_type": "stream",
     "text": [
      "Saved in mnist_model.pth\n"
     ]
    }
   ],
   "source": [
    "# 保存权重模型\n",
    "model_path = 'mnist_model.pth'\n",
    "net.save(model_path)"
   ]
  },
  {
   "attachments": {},
   "cell_type": "markdown",
   "metadata": {},
   "source": [
    "# 加载模型,测试准确率"
   ]
  },
  {
   "cell_type": "code",
   "execution_count": 7,
   "metadata": {},
   "outputs": [
    {
     "name": "stdout",
     "output_type": "stream",
     "text": [
      "load model in cuda!\n",
      "load checkpoint file: mnist_model.pth\n"
     ]
    }
   ],
   "source": [
    "# 加载检测\n",
    "from convolutional_networks import ThreeLayerConvNet\n",
    "\n",
    "model_path = 'mnist_model.pth'\n",
    "device = 'cuda'\n",
    "net_mnist = ThreeLayerConvNet(device=device)\n",
    "net_mnist.load(model_path ,device='cuda')  #"
   ]
  },
  {
   "cell_type": "code",
   "execution_count": 8,
   "metadata": {},
   "outputs": [
    {
     "name": "stdout",
     "output_type": "stream",
     "text": [
      "acc:97.75%\n"
     ]
    }
   ],
   "source": [
    "# 检验验证集准确率\n",
    "from toolset.solver import Solver\n",
    "solver_checker = Solver(net_mnist, data_dict,optim_config={\n",
    "                'learning_rate': 0.001,\n",
    "                },device=device)\n",
    "acc = solver_checker.check_accuracy(data_dict['X_val'],data_dict['y_val'])\n",
    "print(f\"acc:{acc*100:.2f}%\")"
   ]
  },
  {
   "attachments": {},
   "cell_type": "markdown",
   "metadata": {},
   "source": [
    "# 可视化推理结果"
   ]
  },
  {
   "cell_type": "code",
   "execution_count": 9,
   "metadata": {},
   "outputs": [
    {
     "name": "stdout",
     "output_type": "stream",
     "text": [
      "load model in cpu!\n",
      "load checkpoint file: mnist_model.pth\n"
     ]
    }
   ],
   "source": [
    "device = 'cpu'\n",
    "net_mnist = ThreeLayerConvNet(device=device)\n",
    "net_mnist.load(\"mnist_model.pth\",device=device)"
   ]
  },
  {
   "cell_type": "code",
   "execution_count": 10,
   "metadata": {},
   "outputs": [
    {
     "name": "stdout",
     "output_type": "stream",
     "text": [
      "torch.float32\n",
      "tensor([[  0.,   0.,   0.,   0.,   0.,   0.,   0.,   0.,   0.,   0.,   0.,   0.,   0.,   0.,   0.,   0.,   0.,   0.,   0.,   0.,   0.,   0.,   0.,   0.,   0.,   0.,   0.,   0.],\n",
      "        [  0.,   0.,   0.,   0.,   0.,   0.,   0.,   0.,   0.,   0.,   0.,   0.,   0.,   0.,   0.,   0.,   0.,   0.,   0.,   0.,   0.,   0.,   0.,   0.,   0.,   0.,   0.,   0.],\n",
      "        [  0.,   0.,   0.,   0.,   0.,   0.,   0.,   0.,   0.,   0.,   0.,  12.,   8.,   0.,   0.,   0.,   0.,   0.,   0.,   0.,   0.,   0.,   0.,   0.,   0.,   0.,   0.,   0.],\n",
      "        [  0.,   0.,   0.,   0.,   0.,   0.,   0.,   0.,   0.,  45., 169., 205., 199., 163., 100.,  33.,   0.,   0.,   0.,   0.,   0.,   0.,   0.,   0.,   0.,   0.,   0.,   0.],\n",
      "        [  0.,   0.,   0.,   0.,   0.,   0.,   0.,   0.,   0.,  86., 210., 187., 200., 235., 249., 227., 141.,  32.,   0.,   0.,   0.,   0.,   0.,   0.,   0.,   0.,   0.,   0.],\n",
      "        [  0.,   0.,   0.,   0.,   0.,   0.,   0.,   0.,   0.,  13.,  42.,   5.,   8.,  36.,  94., 175., 226., 173.,  35.,   0.,   0.,   0.,   0.,   0.,   0.,   0.,   0.,   0.],\n",
      "        [  0.,   0.,   0.,   0.,   0.,   0.,   0.,   0.,   0.,   0.,   0.,   0.,   0.,   0.,   0.,   4.,  93., 217., 134.,   0.,   0.,   0.,   0.,   0.,   0.,   0.,   0.,   0.],\n",
      "        [  0.,   0.,   0.,   0.,   0.,   0.,   0.,   0.,   0.,   0.,   0.,   0.,   0.,   0.,   0.,   0.,  15., 213., 168.,   0.,   0.,   0.,   0.,   0.,   0.,   0.,   0.,   0.],\n",
      "        [  0.,   0.,   0.,   0.,   0.,   0.,   0.,   0.,   0.,   0.,   0.,   0.,   0.,   0.,   0.,   0.,  47., 235., 155.,   0.,   0.,   0.,   0.,   0.,   0.,   0.,   0.,   0.],\n",
      "        [  0.,   0.,   0.,   0.,   0.,   0.,   0.,   0.,   0.,   0.,   0.,   0.,   0.,   0.,   0.,   0., 119., 248.,  78.,   0.,   0.,   0.,   0.,   0.,   0.,   0.,   0.,   0.],\n",
      "        [  0.,   0.,   0.,   0.,   0.,   0.,   0.,   0.,   0.,   0.,   0.,   0.,   0.,   0.,   0.,  25., 216., 209.,  18.,   0.,   0.,   0.,   0.,   0.,   0.,   0.,   0.,   0.],\n",
      "        [  0.,   0.,   0.,   0.,   0.,   0.,   0.,   0.,   0.,   0.,   0.,   0.,   0.,   0.,   2., 157., 251.,  96.,   0.,   0.,   0.,   0.,   0.,   0.,   0.,   0.,   0.,   0.],\n",
      "        [  0.,   0.,   0.,   0.,   0.,   0.,   0.,   0.,   0.,   0.,   0.,   0.,   0.,   0., 105., 255., 167.,   3.,   0.,   0.,   0.,   0.,   0.,   0.,   0.,   0.,   0.,   0.],\n",
      "        [  0.,   0.,   0.,   0.,   0.,   0.,   0.,   0.,   0.,   0.,   0.,   0.,   0., 100., 247., 206.,  25.,   0.,   0.,   0.,   0.,   0.,   0.,   0.,   0.,   0.,   0.,   0.],\n",
      "        [  0.,   0.,   0.,   0.,   0.,   0.,   0.,   0.,   0.,   0.,   0.,   0., 118., 245., 205.,  34.,   0.,   0.,   0.,   0.,   0.,   0.,   0.,   0.,   0.,   0.,   0.,   0.],\n",
      "        [  0.,   0.,   0.,   0.,   0.,   0.,   0.,   0.,   0.,   0.,   3., 136., 255., 204.,  36.,   0.,   0.,   0.,   0.,   0.,   0.,   0.,   0.,   0.,   0.,   0.,   0.,   0.],\n",
      "        [  0.,   0.,   0.,   0.,   0.,   0.,   0.,   0.,   0.,   9., 147., 255., 176.,  19.,   0.,   0.,   0.,   0.,   0.,   0.,   0.,   0.,   0.,   0.,   0.,   0.,   0.,   0.],\n",
      "        [  0.,   0.,   0.,   0.,   0.,   0.,   0.,   0.,  48., 183., 248., 160.,  11.,   0.,   0.,   0.,   0.,   0.,   0.,   0.,   0.,   0.,   0.,   0.,   0.,   0.,   0.,   0.],\n",
      "        [  0.,   0.,   0.,   0.,   0.,   0.,   5.,  91., 195., 238., 165.,  44.,  34.,  25.,  31.,  34.,  22.,  16.,  21.,   9.,   7.,   9.,  11.,  11.,  21.,   0.,   0.,   0.],\n",
      "        [  0.,   0.,   0.,   0.,   0.,   0.,  26., 213., 248., 249., 236., 241., 247., 236., 240., 241., 235., 223., 235., 214., 210., 208., 211., 187., 240.,  83.,   0.,   0.],\n",
      "        [  0.,   0.,   0.,   0.,   0.,   0.,   2.,  67., 127., 130., 144., 149., 149., 131., 140., 146., 170., 162., 173., 169., 191., 189., 193., 170., 182.,  53.,   0.,   0.],\n",
      "        [  0.,   0.,   0.,   0.,   0.,   0.,   0.,   0.,   0.,   0.,   0.,   0.,   0.,   0.,   0.,   0.,   0.,   0.,   0.,   0.,   0.,   0.,   2.,   2.,   0.,   0.,   0.,   0.],\n",
      "        [  0.,   0.,   0.,   0.,   0.,   0.,   0.,   0.,   0.,   0.,   0.,   0.,   0.,   0.,   0.,   0.,   0.,   0.,   0.,   0.,   0.,   0.,   0.,   0.,   0.,   0.,   0.,   0.],\n",
      "        [  0.,   0.,   0.,   0.,   0.,   0.,   0.,   0.,   0.,   0.,   0.,   0.,   0.,   0.,   0.,   0.,   0.,   0.,   0.,   0.,   0.,   0.,   0.,   0.,   0.,   0.,   0.,   0.],\n",
      "        [  0.,   0.,   0.,   0.,   0.,   0.,   0.,   0.,   0.,   0.,   0.,   0.,   0.,   0.,   0.,   0.,   0.,   0.,   0.,   0.,   0.,   0.,   0.,   0.,   0.,   0.,   0.,   0.],\n",
      "        [  0.,   0.,   0.,   0.,   0.,   0.,   0.,   0.,   0.,   0.,   0.,   0.,   0.,   0.,   0.,   0.,   0.,   0.,   0.,   0.,   0.,   0.,   0.,   0.,   0.,   0.,   0.,   0.],\n",
      "        [  0.,   0.,   0.,   0.,   0.,   0.,   0.,   0.,   0.,   0.,   0.,   0.,   0.,   0.,   0.,   0.,   0.,   0.,   0.,   0.,   0.,   0.,   0.,   0.,   0.,   0.,   0.,   0.],\n",
      "        [  0.,   0.,   0.,   0.,   0.,   0.,   0.,   0.,   0.,   0.,   0.,   0.,   0.,   0.,   0.,   0.,   0.,   0.,   0.,   0.,   0.,   0.,   0.,   0.,   0.,   0.,   0.,   0.]])\n"
     ]
    },
    {
     "data": {
      "image/png": "[encoded data removed]",
      "text/plain": [
       "<Figure size 600x400 with 1 Axes>"
      ]
     },
     "metadata": {},
     "output_type": "display_data"
    },
    {
     "name": "stdout",
     "output_type": "stream",
     "text": [
      "torch.float32\n",
      "tensor([[  0.,   0.,   0.,   0.,   0.,   0.,   0.,   0.,   0.,   0.,   0.,   0.,   0.,   0.,   0.,   0.,   0.,   0.,   0.,   0.,   0.,   0.,   0.,   0.,   0.,   0.,   0.,   0.],\n",
      "        [  0.,   0.,   0.,   0.,   0.,   0.,   0.,   0.,   0.,   0.,   0.,   0.,   0.,   0.,   0.,   0.,   0.,   0.,   0.,   0.,   0.,   0.,   0.,   0.,   0.,   0.,   0.,   0.],\n",
      "        [  0.,   0.,   0.,   0.,   0.,   0.,   0.,   0.,   0.,   0.,   0.,   0.,   0.,   0.,   0.,   0.,   0.,   0.,   0.,   0.,   0.,   0.,   0.,   0.,   0.,   0.,   0.,   0.],\n",
      "        [  0.,   0.,   0.,   0.,   0.,   0.,   0.,   0.,   0.,   0.,   0.,   0.,   0.,   0.,   0.,   0.,   0.,   0.,   0.,   0.,   0.,   0.,   0.,   0.,   0.,   0.,   0.,   0.],\n",
      "        [  0.,   0.,   0.,   0.,   0.,   0.,   0.,   0.,  17.,  74.,  88., 101.,  99., 100.,  98.,  77.,  46.,  40.,  35.,  39.,  60.,  54.,   4.,   0.,   0.,   0.,   0.,   0.],\n",
      "        [  0.,   0.,   0.,   0.,   0.,   0.,   0.,   0.,  86., 200., 223., 248., 243., 244., 246., 253., 238., 240., 233., 227., 207., 210.,  44.,   0.,   0.,   0.,   0.,   0.],\n",
      "        [  0.,   0.,   0.,   0.,   0.,   0.,   0.,   0.,  23.,  69.,  68.,  79.,  77.,  77.,  82., 108., 129., 152., 142., 140., 164., 222.,  56.,   0.,   0.,   0.,   0.,   0.],\n",
      "        [  0.,   0.,   0.,   0.,   0.,   0.,   0.,   0.,   0.,   0.,   0.,   0.,   0.,   0.,   0.,   0.,   0.,   0.,   0.,   0., 136., 223.,  40.,   0.,   0.,   0.,   0.,   0.],\n",
      "        [  0.,   0.,   0.,   0.,   0.,   0.,   0.,   0.,   0.,   0.,   0.,   0.,   0.,   0.,   0.,   0.,   0.,   0.,   0.,   3., 165., 194.,  17.,   0.,   0.,   0.,   0.,   0.],\n",
      "        [  0.,   0.,   0.,   0.,   0.,   0.,   0.,   0.,   0.,   0.,   0.,   0.,   0.,   0.,   0.,   0.,   0.,   0.,   0.,  33., 213., 154.,   1.,   0.,   0.,   0.,   0.,   0.],\n",
      "        [  0.,   0.,   0.,   0.,   0.,   0.,   0.,   0.,   0.,   0.,   0.,   0.,   0.,   0.,   0.,   0.,   0.,   0.,   0., 102., 236.,  86.,   0.,   0.,   0.,   0.,   0.,   0.],\n",
      "        [  0.,   0.,   0.,   0.,   0.,   0.,   0.,   0.,   0.,   0.,   0.,   0.,   0.,   0.,   0.,   0.,   0.,   0.,   7., 185., 208.,  21.,   0.,   0.,   0.,   0.,   0.,   0.],\n",
      "        [  0.,   0.,   0.,   0.,   0.,   0.,   0.,   0.,   0.,   0.,   0.,   0.,   0.,   0.,   0.,   0.,   0.,   0.,  62., 235., 141.,   0.,   0.,   0.,   0.,   0.,   0.,   0.],\n",
      "        [  0.,   0.,   0.,   0.,   0.,   0.,   0.,   0.,   0.,   0.,   0.,   0.,   0.,   0.,   0.,   0.,   0.,   1., 149., 226.,  51.,   0.,   0.,   0.,   0.,   0.,   0.,   0.],\n",
      "        [  0.,   0.,   0.,   0.,   0.,   0.,   0.,   0.,   0.,   0.,   0.,   0.,   0.,   0.,   0.,   0.,   0.,  29., 213., 166.,   3.,   0.,   0.,   0.,   0.,   0.,   0.,   0.],\n",
      "        [  0.,   0.,   0.,   0.,   0.,   0.,   0.,   0.,   0.,   0.,   0.,   0.,   0.,   0.,   0.,   0.,   0.,  81., 228.,  95.,   0.,   0.,   0.,   0.,   0.,   0.,   0.,   0.],\n",
      "        [  0.,   0.,   0.,   0.,   0.,   0.,   0.,   0.,   0.,   0.,   0.,   0.,   0.,   0.,   0.,   0.,   0., 147., 209.,  34.,   0.,   0.,   0.,   0.,   0.,   0.,   0.,   0.],\n",
      "        [  0.,   0.,   0.,   0.,   0.,   0.,   0.,   0.,   0.,   0.,   0.,   0.,   0.,   0.,   0.,   0.,  14., 197., 177.,   3.,   0.,   0.,   0.,   0.,   0.,   0.,   0.,   0.],\n",
      "        [  0.,   0.,   0.,   0.,   0.,   0.,   0.,   0.,   0.,   0.,   0.,   0.,   0.,   0.,   0.,   0.,  50., 221., 129.,   0.,   0.,   0.,   0.,   0.,   0.,   0.,   0.,   0.],\n",
      "        [  0.,   0.,   0.,   0.,   0.,   0.,   0.,   0.,   0.,   0.,   0.,   0.,   0.,   0.,   0.,   0.,  92., 230.,  80.,   0.,   0.,   0.,   0.,   0.,   0.,   0.,   0.,   0.],\n",
      "        [  0.,   0.,   0.,   0.,   0.,   0.,   0.,   0.,   0.,   0.,   0.,   0.,   0.,   0.,   0.,   0., 142., 222.,  41.,   0.,   0.,   0.,   0.,   0.,   0.,   0.,   0.,   0.],\n",
      "        [  0.,   0.,   0.,   0.,   0.,   0.,   0.,   0.,   0.,   0.,   0.,   0.,   0.,   0.,   0.,   9., 174., 174.,   7.,   0.,   0.,   0.,   0.,   0.,   0.,   0.,   0.,   0.],\n",
      "        [  0.,   0.,   0.,   0.,   0.,   0.,   0.,   0.,   0.,   0.,   0.,   0.,   0.,   0.,   0.,  32., 165., 124.,   0.,   0.,   0.,   0.,   0.,   0.,   0.,   0.,   0.,   0.],\n",
      "        [  0.,   0.,   0.,   0.,   0.,   0.,   0.,   0.,   0.,   0.,   0.,   0.,   0.,   0.,   0.,  64., 161.,  77.,   0.,   0.,   0.,   0.,   0.,   0.,   0.,   0.,   0.,   0.],\n",
      "        [  0.,   0.,   0.,   0.,   0.,   0.,   0.,   0.,   0.,   0.,   0.,   0.,   0.,   0.,   0.,  90., 146.,  40.,   0.,   0.,   0.,   0.,   0.,   0.,   0.,   0.,   0.,   0.],\n",
      "        [  0.,   0.,   0.,   0.,   0.,   0.,   0.,   0.,   0.,   0.,   0.,   0.,   0.,   0.,  17., 164., 147.,  10.,   0.,   0.,   0.,   0.,   0.,   0.,   0.,   0.,   0.,   0.],\n",
      "        [  0.,   0.,   0.,   0.,   0.,   0.,   0.,   0.,   0.,   0.,   0.,   0.,   0.,   0.,  53., 255., 137.,   0.,   0.,   0.,   0.,   0.,   0.,   0.,   0.,   0.,   0.,   0.],\n",
      "        [  0.,   0.,   0.,   0.,   0.,   0.,   0.,   0.,   0.,   0.,   0.,   0.,   0.,   0.,   6.,  78.,  23.,   0.,   0.,   0.,   0.,   0.,   0.,   0.,   0.,   0.,   0.,   0.]])\n"
     ]
    },
    {
     "data": {
      "image/png": "[encoded data removed]",
      "text/plain": [
       "<Figure size 600x400 with 1 Axes>"
      ]
     },
     "metadata": {},
     "output_type": "display_data"
    },
    {
     "name": "stdout",
     "output_type": "stream",
     "text": [
      "torch.float32\n",
      "tensor([[  0.,   0.,   0.,   0.,   0.,   0.,   0.,   0.,   0.,   0.,   0.,   0.,   0.,   0.,   0.,   0.,   0.,   0.,   0.,   0.,   0.,   0.,   0.,   0.,   0.,   0.,   0.,   0.],\n",
      "        [  0.,   0.,   0.,   0.,   0.,   0.,   0.,   0.,   0.,   0.,   0.,   0.,   0.,   0.,   0.,   0.,   0.,   0.,   0.,   0.,   0.,   0.,   0.,   0.,   0.,   0.,   0.,   0.],\n",
      "        [  0.,   0.,   0.,   0.,   0.,   0.,   0.,   0.,   0.,   0.,   0.,   0.,   0.,   0.,   0.,   0.,   0.,   0.,   0.,   0.,   0.,   0.,   0.,   0.,   0.,   0.,   0.,   0.],\n",
      "        [  0.,   0.,   0.,   0.,   0.,   0.,   0.,   0.,   0.,   0.,   0.,   0.,   3.,  31.,  71.,  13.,   0.,   0.,   0.,   0.,   0.,   0.,   0.,   0.,   0.,   0.,   0.,   0.],\n",
      "        [  0.,   0.,   0.,   0.,   0.,   0.,   0.,   0.,   0.,   0.,   0.,  75., 176., 210., 237., 180.,  84.,  74.,  33.,   0.,   0.,   0.,   0.,   0.,   0.,   0.,   0.,   0.],\n",
      "        [  0.,   0.,   0.,   0.,   0.,   0.,   0.,   0.,   0.,  37., 151., 233., 212., 150., 177., 248., 150., 137., 148.,  48.,   0.,   0.,   0.,   0.,   0.,   0.,   0.,   0.],\n",
      "        [  0.,   0.,   0.,   0.,   0.,   0.,   0.,   0.,  82., 196., 223., 161.,  41.,   0.,   7.,  41.,  41.,  63., 156., 133.,   5.,   0.,   0.,   0.,   0.,   0.,   0.,   0.],\n",
      "        [  0.,   0.,   0.,   0.,   0.,   0.,   0.,  34., 183., 175.,  66.,   1.,   0.,   0.,   0.,   0.,   0.,   0., 140., 164.,  11.,   0.,   0.,   0.,   0.,   0.,   0.,   0.],\n",
      "        [  0.,   0.,   0.,   0.,   0.,   0.,   0.,  95., 201.,  64.,   0.,   0.,   0.,   0.,   0.,   0.,   0.,   9., 162., 162.,   8.,   0.,   0.,   0.,   0.,   0.,   0.,   0.],\n",
      "        [  0.,   0.,   0.,   0.,   0.,   0.,   0.,  97., 212.,  81.,   0.,   0.,   0.,   0.,   0.,   0.,   0.,  82., 199.,  99.,   0.,   0.,   0.,   0.,   0.,   0.,   0.,   0.],\n",
      "        [  0.,   0.,   0.,   0.,   0.,   0.,   0.,  23., 187., 200.,  62.,   0.,   0.,   0.,   0.,   0.,  64., 192., 194.,  29.,   0.,   0.,   0.,   0.,   0.,   0.,   0.,   0.],\n",
      "        [  0.,   0.,   0.,   0.,   0.,   0.,   0.,   0.,  58., 204., 208.,  82.,   0.,   0.,   0.,  63., 196., 185.,  58.,   0.,   0.,   0.,   0.,   0.,   0.,   0.,   0.,   0.],\n",
      "        [  0.,   0.,   0.,   0.,   0.,   0.,   0.,   0.,   0.,  53., 194., 216., 116.,  24.,  94., 215., 192.,  58.,   0.,   0.,   0.,   0.,   0.,   0.,   0.,   0.,   0.,   0.],\n",
      "        [  0.,   0.,   0.,   0.,   0.,   0.,   0.,   0.,   0.,   0.,  34., 151., 208., 175., 210., 173.,  55.,   0.,   0.,   0.,   0.,   0.,   0.,   0.,   0.,   0.,   0.,   0.],\n",
      "        [  0.,   0.,   0.,   0.,   0.,   0.,   0.,   0.,   0.,   0.,  17., 109., 201., 211., 196.,  89.,   0.,   0.,   0.,   0.,   0.,   0.,   0.,   0.,   0.,   0.,   0.,   0.],\n",
      "        [  0.,   0.,   0.,   0.,   0.,   0.,   0.,   2.,  52., 129., 211., 232., 178., 100., 154., 179.,  47.,   0.,   0.,   0.,   0.,   0.,   0.,   0.,   0.,   0.,   0.,   0.],\n",
      "        [  0.,   0.,   0.,   0.,   0.,   0.,  58., 165., 226., 236., 197., 107.,  18.,   0.,  53., 189., 123.,   0.,   0.,   0.,   0.,   0.,   0.,   0.,   0.,   0.,   0.,   0.],\n",
      "        [  0.,   0.,   0.,   0.,   0.,  94., 223., 215., 149.,  68.,  11.,   0.,   0.,   0.,   5., 169., 178.,  10.,   0.,   0.,   0.,   0.,   0.,   0.,   0.,   0.,   0.,   0.],\n",
      "        [  0.,   0.,   0.,   0.,  60., 208., 182.,  54.,   0.,   0.,   0.,   0.,   0.,   0.,   0., 134., 177.,  19.,   0.,   0.,   0.,   0.,   0.,   0.,   0.,   0.,   0.,   0.],\n",
      "        [  0.,   0.,   0.,   4., 166., 205.,  42.,   0.,   0.,   0.,   0.,   0.,   0.,   0.,   0., 135., 190.,  22.,   0.,   0.,   0.,   0.,   0.,   0.,   0.,   0.,   0.,   0.],\n",
      "        [  0.,   0.,   0.,   8., 165., 155.,   6.,   0.,   0.,   0.,   0.,   0.,   0.,   0.,  10., 177., 186.,  15.,   0.,   0.,   0.,   0.,   0.,   0.,   0.,   0.,   0.,   0.],\n",
      "        [  0.,   0.,   0.,   1.,  86., 179., 109.,   0.,   0.,   0.,   0.,   0.,   0.,   0.,  97., 216., 108.,   0.,   0.,   0.,   0.,   0.,   0.,   0.,   0.,   0.,   0.,   0.],\n",
      "        [  0.,   0.,   0.,   0.,  16., 182., 223.,  78.,   0.,   0.,   0.,   0.,  34., 140., 221., 183.,  24.,   0.,   0.,   0.,   0.,   0.,   0.,   0.,   0.,   0.,   0.,   0.],\n",
      "        [  0.,   0.,   0.,   0.,   0.,  51., 205., 226., 136.,  73.,  93., 130., 188., 225., 161.,  37.,   0.,   0.,   0.,   0.,   0.,   0.,   0.,   0.,   0.,   0.,   0.,   0.],\n",
      "        [  0.,   0.,   0.,   0.,   0.,   0.,  41., 175., 230., 222., 220., 201., 148.,  81.,   5.,   0.,   0.,   0.,   0.,   0.,   0.,   0.,   0.,   0.,   0.,   0.,   0.,   0.],\n",
      "        [  0.,   0.,   0.,   0.,   0.,   0.,   0.,  11.,  71.,  92.,  73.,  40.,   4.,   0.,   0.,   0.,   0.,   0.,   0.,   0.,   0.,   0.,   0.,   0.,   0.,   0.,   0.,   0.],\n",
      "        [  0.,   0.,   0.,   0.,   0.,   0.,   0.,   0.,   0.,   0.,   0.,   0.,   0.,   0.,   0.,   0.,   0.,   0.,   0.,   0.,   0.,   0.,   0.,   0.,   0.,   0.,   0.,   0.],\n",
      "        [  0.,   0.,   0.,   0.,   0.,   0.,   0.,   0.,   0.,   0.,   0.,   0.,   0.,   0.,   0.,   0.,   0.,   0.,   0.,   0.,   0.,   0.,   0.,   0.,   0.,   0.,   0.,   0.]])\n"
     ]
    },
    {
     "data": {
      "image/png": "[encoded data removed]",
      "text/plain": [
       "<Figure size 600x400 with 1 Axes>"
      ]
     },
     "metadata": {},
     "output_type": "display_data"
    }
   ],
   "source": [
    "# 画笔测试\n",
    "import tkinter as tk\n",
    "from PIL import Image, ImageDraw\n",
    "import numpy as np\n",
    "import torch\n",
    "# 创建Tkinter主窗口\n",
    "root = tk.Tk()\n",
    "\n",
    "# 创建一个Canvas，用户可以在上面绘制数字\n",
    "canvas_size = 280  # canvas的大小\n",
    "canvas = tk.Canvas(root, width=canvas_size, height=canvas_size, bg='black')\n",
    "canvas.pack()\n",
    "\n",
    "# 创建一个PIL Image对象和一个ImageDraw对象，我们会在这个Image对象上进行绘图\n",
    "img = Image.new('L', (canvas_size, canvas_size), 0)\n",
    "draw = ImageDraw.Draw(img)\n",
    "\n",
    "# 定义鼠标拖动事件的处理函数，用于绘图\n",
    "def draw_digit(event):\n",
    "    radius = 9  # 设置画笔粗细\n",
    "    x1, y1 = (event.x - radius), (event.y - radius)\n",
    "    x2, y2 = (event.x + radius), (event.y + radius)\n",
    "    canvas.create_oval(x1, y1, x2, y2, fill='white', outline='white')\n",
    "    draw.ellipse([x1, y1, x2, y2], fill='white', outline='gray')\n",
    "\n",
    "\n",
    "\n",
    "canvas.bind('<B1-Motion>', draw_digit)\n",
    "\n",
    "def detect_func(x:Tensor):  \n",
    "    # (28,28)\n",
    "    print(x.dtype) \n",
    "    torch.set_printoptions(threshold=99999999, linewidth=9999999)\n",
    "    print(x)\n",
    "    x.unsqueeze_(0) # (1,28,28)\n",
    "    \n",
    "    plt.imshow(tensor_to_image(x))\n",
    "    plt.axis(\"off\")\n",
    "    plt.show()\n",
    "    \n",
    "    x.unsqueeze_(0) # (1, 1, 28, 28)\n",
    "    \n",
    "    # 归一化，参数从mnist的数据集上统计得来\n",
    "    mean = 0.1307\n",
    "    std = 0.3081\n",
    "    x = (x - mean) / std\n",
    "\n",
    "    return (net_mnist.loss(x).argmax()).item()\n",
    "\n",
    "# 定义“检测”按钮的回调函数\n",
    "def detect():\n",
    "    # 重新调整图像大小并转换为numpy数组\n",
    "    img_resized = img.resize((28, 28))\n",
    "    img_array = np.array(img_resized)\n",
    "\n",
    "    # 转换为PyTorch Tensor，注意类型和设备\n",
    "    img_tensor = torch.from_numpy(img_array).to(device).to(torch.float32)\n",
    "\n",
    "    # 调用detect函数\n",
    "    digit = detect_func(img_tensor)\n",
    "\n",
    "    # 更新label显示检测结果\n",
    "    label.config(text=str(digit))\n",
    "\n",
    "# 创建一个按钮，点击时会调用detect函数\n",
    "detect_button = tk.Button(root, text='Detect', command=detect)\n",
    "detect_button.pack()\n",
    "\n",
    "# 定义“清除”按钮的回调函数\n",
    "def clear_canvas():\n",
    "    canvas.delete('all')\n",
    "    draw.rectangle([0, 0, canvas_size, canvas_size], fill=0)\n",
    "\n",
    "# 创建一个按钮，点击时会清除Canvas\n",
    "clear_button = tk.Button(root, text='Clear', command=clear_canvas)\n",
    "clear_button.pack()\n",
    "\n",
    "# 创建一个标签，用于显示检测结果\n",
    "label = tk.Label(root, text='Detect Result')\n",
    "label.pack()\n",
    "\n",
    "# 开始Tkinter的主循环\n",
    "root.mainloop()\n"
   ]
  },
  {
   "cell_type": "code",
   "execution_count": null,
   "metadata": {},
   "outputs": [],
   "source": []
  }
 ],
 "metadata": {
  "kernelspec": {
   "display_name": "Python 3 (ipykernel)",
   "language": "python",
   "name": "python3"
  },
  "language_info": {
   "codemirror_mode": {
    "name": "ipython",
    "version": 3
   },
   "file_extension": ".py",
   "mimetype": "text/x-python",
   "name": "python",
   "nbconvert_exporter": "python",
   "pygments_lexer": "ipython3",
   "version": "3.10.11"
  }
 },
 "nbformat": 4,
 "nbformat_minor": 4
}
