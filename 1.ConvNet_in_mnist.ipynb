{
 "cells": [
  {
   "attachments": {},
   "cell_type": "markdown",
   "metadata": {},
   "source": [
    "# 数据加载"
   ]
  },
  {
   "cell_type": "code",
   "execution_count": 2,
   "metadata": {},
   "outputs": [
    {
     "name": "stdout",
     "output_type": "stream",
     "text": [
      "Good to go!\n"
     ]
    }
   ],
   "source": [
    "# 导入包\n",
    "\n",
    "# 自动重新加载更改后的Python模块\n",
    "%load_ext autoreload\n",
    "%autoreload 2\n",
    "\n",
    "try:\n",
    "    from google.colab import drive\n",
    "    drive.mount('/content/drive')\n",
    "    import os\n",
    "    GOOGLE_DRIVE_PATH_AFTER_MYDRIVE = 'ConvNetFromScratch'\n",
    "    GOOGLE_DRIVE_PATH = os.path.join('drive', 'My Drive', GOOGLE_DRIVE_PATH_AFTER_MYDRIVE)\n",
    "    print(os.listdir(GOOGLE_DRIVE_PATH))\n",
    "    import sys\n",
    "    sys.path.append(GOOGLE_DRIVE_PATH)\n",
    "except:\n",
    "    pass\n",
    "\n",
    "import time, os, torch, torchvision, random, time, math\n",
    "from torch import Tensor\n",
    "import torchvision\n",
    "import matplotlib.pyplot as plt\n",
    "\n",
    "%matplotlib inline\n",
    "plt.rcParams['figure.figsize'] = (6, 4)\n",
    "plt.rcParams['font.size'] = 10\n",
    "from toolset import *\n",
    "from toolset.utils import *\n",
    "from toolset.data import *\n",
    "from toolset.helper import *\n",
    "from toolset.solver import *\n",
    "from convolutional_networks import *\n",
    "from fully_connected_networks import *\n",
    "\n",
    "if torch.cuda.is_available:\n",
    "    print('Good to go!')"
   ]
  },
  {
   "cell_type": "code",
   "execution_count": 3,
   "metadata": {},
   "outputs": [
    {
     "name": "stdout",
     "output_type": "stream",
     "text": [
      "cuda\n",
      "训练数据集的形态: torch.Size([60000, 1, 28, 28])\n"
     ]
    },
    {
     "data": {
      "image/png": "[encoded data removed]",
      "text/plain": [
       "<Figure size 1200x1200 with 1 Axes>"
      ]
     },
     "metadata": {},
     "output_type": "display_data"
    }
   ],
   "source": [
    "# 数据加载\n",
    "train_data, train_labels, test_data, test_labels = get_mnist_data()\n",
    "\n",
    "device = torch.device(\"cuda\" if torch.cuda.is_available() else \"cpu\")\n",
    "print(device)\n",
    "train_data = train_data.to(device)\n",
    "train_labels = train_labels.to(device)\n",
    "test_data = test_data.to(device)\n",
    "test_labels = test_labels.to(device)\n",
    "\n",
    "data_dict = {\n",
    "    'X_train': train_data,\n",
    "    'y_train': train_labels,\n",
    "    'X_val': test_data,\n",
    "    'y_val': test_labels,\n",
    "}\n",
    "print(\"训练数据集的形态:\", train_data.shape)\n",
    "clear()\n",
    "\n",
    "tensor_to_imggrid_show(test_data[:10])\n"
   ]
  },
  {
   "attachments": {},
   "cell_type": "markdown",
   "metadata": {},
   "source": [
    "# 训练与保存"
   ]
  },
  {
   "cell_type": "code",
   "execution_count": 10,
   "metadata": {},
   "outputs": [],
   "source": [
    "reset_seed(0)\n",
    "net = ThreeLayerConvNet(\n",
    "    input_dims = (1, 28, 28),\n",
    "    num_filters = 32,\n",
    "    hidden_dim = 128,\n",
    "    num_classes = 10,\n",
    "    weight_scale = 1e-3,\n",
    "    reg = 1e-5,\n",
    "    device='cuda'\n",
    ")\n",
    "solver = Solver(net, data_dict,\n",
    "                num_epochs=3, batch_size=50,\n",
    "                optim_config={\n",
    "                'learning_rate': 0.001,\n",
    "                },\n",
    "                update_rule=adam,\n",
    "                verbose=True, device='cuda',print_every=100)"
   ]
  },
  {
   "cell_type": "code",
   "execution_count": 11,
   "metadata": {},
   "outputs": [
    {
     "name": "stdout",
     "output_type": "stream",
     "text": [
      "(用时 0.01s; 迭代次数1 / 3600) loss: 2.302593\n",
      "(Epoch 0 / 3, train 准确率: 11.20%, val准确率: 10.10%\n",
      "更新:当前准确率10.10, 大于之前的最佳准确率0.00\n",
      "\n",
      "(用时 0.69s; 迭代次数101 / 3600) loss: 0.500972\n",
      "(用时 1.14s; 迭代次数201 / 3600) loss: 0.267369\n",
      "(用时 1.61s; 迭代次数301 / 3600) loss: 0.079804\n",
      "(用时 2.08s; 迭代次数401 / 3600) loss: 0.101923\n",
      "(用时 2.55s; 迭代次数501 / 3600) loss: 0.286460\n",
      "(用时 3.01s; 迭代次数601 / 3600) loss: 0.062335\n",
      "(用时 3.46s; 迭代次数701 / 3600) loss: 0.086884\n",
      "(用时 3.92s; 迭代次数801 / 3600) loss: 0.086682\n",
      "(用时 4.37s; 迭代次数901 / 3600) loss: 0.182105\n",
      "(用时 4.83s; 迭代次数1001 / 3600) loss: 0.183048\n",
      "(用时 5.27s; 迭代次数1101 / 3600) loss: 0.061077\n",
      "(Epoch 1 / 3, train 准确率: 96.90%, val准确率: 97.60%\n",
      "更新:当前准确率97.60, 大于之前的最佳准确率10.10\n",
      "\n",
      "(用时 5.78s; 迭代次数1201 / 3600) loss: 0.031119\n",
      "(用时 6.24s; 迭代次数1301 / 3600) loss: 0.014417\n",
      "(用时 6.72s; 迭代次数1401 / 3600) loss: 0.169545\n",
      "(用时 7.22s; 迭代次数1501 / 3600) loss: 0.037534\n",
      "(用时 7.72s; 迭代次数1601 / 3600) loss: 0.012439\n",
      "(用时 8.20s; 迭代次数1701 / 3600) loss: 0.031449\n",
      "(用时 8.70s; 迭代次数1801 / 3600) loss: 0.020910\n",
      "(用时 9.16s; 迭代次数1901 / 3600) loss: 0.014006\n",
      "(用时 9.65s; 迭代次数2001 / 3600) loss: 0.018025\n",
      "(用时 10.11s; 迭代次数2101 / 3600) loss: 0.014867\n",
      "(用时 10.59s; 迭代次数2201 / 3600) loss: 0.032079\n",
      "(用时 11.08s; 迭代次数2301 / 3600) loss: 0.059115\n",
      "(Epoch 2 / 3, train 准确率: 98.70%, val准确率: 97.90%\n",
      "更新:当前准确率97.90, 大于之前的最佳准确率97.60\n",
      "\n",
      "(用时 11.61s; 迭代次数2401 / 3600) loss: 0.072964\n",
      "(用时 12.10s; 迭代次数2501 / 3600) loss: 0.150213\n",
      "(用时 12.60s; 迭代次数2601 / 3600) loss: 0.205713\n",
      "(用时 13.12s; 迭代次数2701 / 3600) loss: 0.075097\n",
      "(用时 13.62s; 迭代次数2801 / 3600) loss: 0.072416\n",
      "(用时 14.07s; 迭代次数2901 / 3600) loss: 0.015817\n",
      "(用时 14.59s; 迭代次数3001 / 3600) loss: 0.026942\n",
      "(用时 15.05s; 迭代次数3101 / 3600) loss: 0.084317\n",
      "(用时 15.53s; 迭代次数3201 / 3600) loss: 0.064754\n",
      "(用时 15.99s; 迭代次数3301 / 3600) loss: 0.009309\n",
      "(用时 16.43s; 迭代次数3401 / 3600) loss: 0.010096\n",
      "(用时 16.87s; 迭代次数3501 / 3600) loss: 0.012276\n",
      "(Epoch 3 / 3, train 准确率: 99.10%, val准确率: 98.76%\n",
      "更新:当前准确率98.76, 大于之前的最佳准确率97.90\n",
      "\n"
     ]
    }
   ],
   "source": [
    "reset_seed(0)\n",
    "solver.train(time_limit=600)\n",
    "# 你的模型应该能达到95%+准确率"
   ]
  },
  {
   "cell_type": "code",
   "execution_count": 12,
   "metadata": {},
   "outputs": [
    {
     "name": "stdout",
     "output_type": "stream",
     "text": [
      "Saved in mnist_model.pth\n"
     ]
    }
   ],
   "source": [
    "# 保存权重模型\n",
    "model_path = 'mnist_model.pth'\n",
    "net.save(model_path)"
   ]
  },
  {
   "attachments": {},
   "cell_type": "markdown",
   "metadata": {},
   "source": [
    "# 加载模型,测试准确率"
   ]
  },
  {
   "cell_type": "code",
   "execution_count": 5,
   "metadata": {},
   "outputs": [
    {
     "name": "stdout",
     "output_type": "stream",
     "text": [
      "load model in cuda!\n",
      "load checkpoint file: mnist_model.pth\n"
     ]
    }
   ],
   "source": [
    "# 加载检测\n",
    "from convolutional_networks import ThreeLayerConvNet\n",
    "\n",
    "model_path = 'mnist_model.pth'\n",
    "device = 'cuda'\n",
    "net_mnist = ThreeLayerConvNet(device=device)\n",
    "net_mnist.load(model_path ,device='cuda')  #"
   ]
  },
  {
   "cell_type": "code",
   "execution_count": 6,
   "metadata": {},
   "outputs": [
    {
     "name": "stdout",
     "output_type": "stream",
     "text": [
      "acc:98.76%\n"
     ]
    }
   ],
   "source": [
    "# 检验验证集准确率\n",
    "from toolset.solver import Solver\n",
    "solver_checker = Solver(net_mnist, data_dict,optim_config={\n",
    "                'learning_rate': 0.001,\n",
    "                },device=device)\n",
    "acc = solver_checker.check_accuracy(data_dict['X_val'],data_dict['y_val'])\n",
    "print(f\"acc:{acc*100:.2f}%\")"
   ]
  },
  {
   "attachments": {},
   "cell_type": "markdown",
   "metadata": {},
   "source": [
    "# 可视化推理结果"
   ]
  },
  {
   "cell_type": "code",
   "execution_count": 7,
   "metadata": {},
   "outputs": [
    {
     "name": "stdout",
     "output_type": "stream",
     "text": [
      "load model in cpu!\n",
      "load checkpoint file: mnist_model.pth\n"
     ]
    }
   ],
   "source": [
    "device = 'cpu'\n",
    "net_mnist = ThreeLayerConvNet(device=device)\n",
    "net_mnist.load(\"mnist_model.pth\",device=device)"
   ]
  },
  {
   "cell_type": "code",
   "execution_count": 9,
   "metadata": {},
   "outputs": [
    {
     "name": "stdout",
     "output_type": "stream",
     "text": [
      "torch.float32\n",
      "tensor([[  0.,   0.,   0.,   0.,   0.,   0.,   0.,   0.,   0.,   0.,   0.,   0.,   0.,   0.,   0.,   0.,   0.,   0.,   0.,   0.,   0.,   0.,   0.,   0.,   0.,   0.,   0.,   0.],\n",
      "        [  0.,   0.,   0.,   0.,   0.,   0.,   0.,   0.,   0.,   0.,   0.,   0.,   0.,   0.,   0.,   0.,   0.,   0.,   0.,   0.,   0.,   0.,   0.,   0.,   0.,   0.,   0.,   0.],\n",
      "        [  0.,   0.,   0.,   0.,   0.,   0.,   0.,   0.,   0.,   0.,   0.,   0.,   0.,  15.,  35.,  43.,  40.,  31.,   8.,   0.,   0.,   0.,   0.,   0.,   0.,   0.,   0.,   0.],\n",
      "        [  0.,   0.,   0.,   0.,   0.,   0.,   0.,   0.,   0.,   0.,   4.,  44., 105., 144., 160., 160., 155., 138.,  95.,   6.,   0.,   0.,   0.,   0.,   0.,   0.,   0.,   0.],\n",
      "        [  0.,   0.,   0.,   0.,   0.,   0.,   0.,   0.,   8.,  65., 131., 168., 166., 125., 105.,  85.,  87., 117., 140.,  36.,   0.,   0.,   0.,   0.,   0.,   0.,   0.,   0.],\n",
      "        [  0.,   0.,   0.,   0.,   0.,   0.,   0.,  47., 127., 169., 158., 106.,  54.,  10.,   0.,   0.,   0., 104., 175.,  43.,   0.,   0.,   0.,   0.,   0.,   0.,   0.,   0.],\n",
      "        [  0.,   0.,   0.,   0.,   0.,   0.,  53., 153., 150.,  91.,  33.,   0.,   0.,   0.,   0.,   0.,   9., 151., 201.,  48.,   0.,   0.,   0.,   0.,   0.,   0.,   0.,   0.],\n",
      "        [  0.,   0.,   0.,   0.,   0.,  15., 120., 133.,  53.,   0.,   0.,   0.,   0.,   0.,   0.,   0.,  53., 175., 204.,  51.,   0.,   0.,   0.,   0.,   0.,   0.,   0.,   0.],\n",
      "        [  0.,   0.,   0.,   0.,   0.,  40., 139.,  84.,   0.,   0.,   0.,   0.,   0.,   0.,   0.,   6., 117., 177., 205.,  40.,   0.,   0.,   0.,   0.,   0.,   0.,   0.,   0.],\n",
      "        [  0.,   0.,   0.,   0.,   0.,  38., 154., 104.,   3.,   0.,   0.,   0.,   0.,   0.,   7.,  95., 148., 159., 182.,  32.,   0.,   0.,   0.,   0.,   0.,   0.,   0.,   0.],\n",
      "        [  0.,   0.,   0.,   0.,   0.,   7., 119., 163., 107.,  52.,  39.,  39.,  47.,  71., 114., 154., 118., 129., 178.,  33.,   0.,   0.,   0.,   0.,   0.,   0.,   0.,   0.],\n",
      "        [  0.,   0.,   0.,   0.,   0.,   0.,  21., 115., 147., 138., 136., 138., 142., 143., 151.,  97.,  18., 118., 162.,  21.,   0.,   0.,   0.,   0.,   0.,   0.,   0.,   0.],\n",
      "        [  0.,   0.,   0.,   0.,   0.,   0.,   0.,   6.,  47.,  74.,  77.,  80.,  80.,  61.,  29.,   0.,   0., 126., 155.,  17.,   0.,   0.,   0.,   0.,   0.,   0.,   0.,   0.],\n",
      "        [  0.,   0.,   0.,   0.,   0.,   0.,   0.,   0.,   0.,   0.,   0.,   0.,   0.,   0.,   0.,   0.,   4., 139., 151.,  10.,   0.,   0.,   0.,   0.,   0.,   0.,   0.,   0.],\n",
      "        [  0.,   0.,   0.,   0.,   0.,   0.,   0.,   0.,   0.,   0.,   0.,   0.,   0.,   0.,   0.,   0.,   9., 138., 135.,   4.,   0.,   0.,   0.,   0.,   0.,   0.,   0.,   0.],\n",
      "        [  0.,   0.,   0.,   0.,   0.,   0.,   0.,   0.,   0.,   0.,   0.,   0.,   0.,   0.,   0.,   0.,  17., 135., 119.,   2.,   0.,   0.,   0.,   0.,   0.,   0.,   0.,   0.],\n",
      "        [  0.,   0.,   0.,   0.,   0.,   0.,   0.,   0.,   0.,   0.,   0.,   0.,   0.,   0.,   0.,   0.,  27., 142., 107.,   0.,   0.,   0.,   0.,   0.,   0.,   0.,   0.,   0.],\n",
      "        [  0.,   0.,   0.,   0.,   0.,   0.,   0.,   0.,   0.,   0.,   0.,   0.,   0.,   0.,   0.,   0.,  38., 138.,  88.,   0.,   0.,   0.,   0.,   0.,   0.,   0.,   0.,   0.],\n",
      "        [  0.,   0.,   0.,   0.,   0.,   0.,   0.,   0.,   0.,   0.,   0.,   0.,   0.,   0.,   0.,   0.,  51., 137.,  70.,   0.,   0.,   0.,   0.,   0.,   0.,   0.,   0.,   0.],\n",
      "        [  0.,   0.,   0.,   0.,   0.,   0.,   0.,   0.,   0.,   0.,   0.,   0.,   0.,   0.,   0.,   0.,  60., 142.,  59.,   0.,   0.,   0.,   0.,   0.,   0.,   0.,   0.,   0.],\n",
      "        [  0.,   0.,   0.,   0.,   0.,   0.,   0.,   0.,   0.,   0.,   0.,   0.,   0.,   0.,   0.,   0., 116., 241.,  66.,   0.,   0.,   0.,   0.,   0.,   0.,   0.,   0.,   0.],\n",
      "        [  0.,   0.,   0.,   0.,   0.,   0.,   0.,   0.,   0.,   0.,   0.,   0.,   0.,   0.,   0.,   0.,  82., 193.,  31.,   0.,   0.,   0.,   0.,   0.,   0.,   0.,   0.,   0.],\n",
      "        [  0.,   0.,   0.,   0.,   0.,   0.,   0.,   0.,   0.,   0.,   0.,   0.,   0.,   0.,   0.,   0.,   0.,   0.,   0.,   0.,   0.,   0.,   0.,   0.,   0.,   0.,   0.,   0.],\n",
      "        [  0.,   0.,   0.,   0.,   0.,   0.,   0.,   0.,   0.,   0.,   0.,   0.,   0.,   0.,   0.,   0.,   0.,   0.,   0.,   0.,   0.,   0.,   0.,   0.,   0.,   0.,   0.,   0.],\n",
      "        [  0.,   0.,   0.,   0.,   0.,   0.,   0.,   0.,   0.,   0.,   0.,   0.,   0.,   0.,   0.,   0.,   0.,   0.,   0.,   0.,   0.,   0.,   0.,   0.,   0.,   0.,   0.,   0.],\n",
      "        [  0.,   0.,   0.,   0.,   0.,   0.,   0.,   0.,   0.,   0.,   0.,   0.,   0.,   0.,   0.,   0.,   0.,   0.,   0.,   0.,   0.,   0.,   0.,   0.,   0.,   0.,   0.,   0.],\n",
      "        [  0.,   0.,   0.,   0.,   0.,   0.,   0.,   0.,   0.,   0.,   0.,   0.,   0.,   0.,   0.,   0.,   0.,   0.,   0.,   0.,   0.,   0.,   0.,   0.,   0.,   0.,   0.,   0.],\n",
      "        [  0.,   0.,   0.,   0.,   0.,   0.,   0.,   0.,   0.,   0.,   0.,   0.,   0.,   0.,   0.,   0.,   0.,   0.,   0.,   0.,   0.,   0.,   0.,   0.,   0.,   0.,   0.,   0.]])\n"
     ]
    },
    {
     "data": {
      "image/png": "[encoded data removed]",
      "text/plain": [
       "<Figure size 600x400 with 1 Axes>"
      ]
     },
     "metadata": {},
     "output_type": "display_data"
    }
   ],
   "source": [
    "# 画笔测试\n",
    "import tkinter as tk\n",
    "from PIL import Image, ImageDraw\n",
    "import numpy as np\n",
    "import torch\n",
    "# 创建Tkinter主窗口\n",
    "root = tk.Tk()\n",
    "\n",
    "# 创建一个Canvas，用户可以在上面绘制数字\n",
    "canvas_size = 280  # canvas的大小\n",
    "canvas = tk.Canvas(root, width=canvas_size, height=canvas_size, bg='black')\n",
    "canvas.pack()\n",
    "\n",
    "# 创建一个PIL Image对象和一个ImageDraw对象，我们会在这个Image对象上进行绘图\n",
    "img = Image.new('L', (canvas_size, canvas_size), 0)\n",
    "draw = ImageDraw.Draw(img)\n",
    "\n",
    "# 定义鼠标拖动事件的处理函数，用于绘图\n",
    "def draw_digit(event):\n",
    "    radius = 9  # 设置画笔粗细\n",
    "    x1, y1 = (event.x - radius), (event.y - radius)\n",
    "    x2, y2 = (event.x + radius), (event.y + radius)\n",
    "    canvas.create_oval(x1, y1, x2, y2, fill='white', outline='white')\n",
    "    draw.ellipse([x1, y1, x2, y2], fill='white', outline='gray')\n",
    "\n",
    "\n",
    "\n",
    "canvas.bind('<B1-Motion>', draw_digit)\n",
    "\n",
    "def detect_func(x:Tensor):  \n",
    "    # (28,28)\n",
    "    print(x.dtype) \n",
    "    torch.set_printoptions(threshold=99999999, linewidth=9999999)\n",
    "    print(x)\n",
    "    x.unsqueeze_(0) # (1,28,28)\n",
    "    \n",
    "    plt.imshow(tensor_to_image(x))\n",
    "    plt.axis(\"off\")\n",
    "    plt.show()\n",
    "    \n",
    "    x.unsqueeze_(0) # (1, 1, 28, 28)\n",
    "    \n",
    "    # 归一化，参数从mnist的数据集上统计得来\n",
    "    mean = 0.1307\n",
    "    std = 0.3081\n",
    "    x = (x - mean) / std\n",
    "\n",
    "    return (net_mnist.loss(x).argmax()).item()\n",
    "\n",
    "# 定义“检测”按钮的回调函数\n",
    "def detect():\n",
    "    # 重新调整图像大小并转换为numpy数组\n",
    "    img_resized = img.resize((28, 28))\n",
    "    img_array = np.array(img_resized)\n",
    "\n",
    "    # 转换为PyTorch Tensor，注意类型和设备\n",
    "    img_tensor = torch.from_numpy(img_array).to(device).to(torch.float32)\n",
    "\n",
    "    # 调用detect函数\n",
    "    digit = detect_func(img_tensor)\n",
    "\n",
    "    # 更新label显示检测结果\n",
    "    label.config(text=str(digit))\n",
    "\n",
    "# 创建一个按钮，点击时会调用detect函数\n",
    "detect_button = tk.Button(root, text='Detect', command=detect)\n",
    "detect_button.pack()\n",
    "\n",
    "# 定义“清除”按钮的回调函数\n",
    "def clear_canvas():\n",
    "    canvas.delete('all')\n",
    "    draw.rectangle([0, 0, canvas_size, canvas_size], fill=0)\n",
    "\n",
    "# 创建一个按钮，点击时会清除Canvas\n",
    "clear_button = tk.Button(root, text='Clear', command=clear_canvas)\n",
    "clear_button.pack()\n",
    "\n",
    "# 创建一个标签，用于显示检测结果\n",
    "label = tk.Label(root, text='Detect Result')\n",
    "label.pack()\n",
    "\n",
    "# 开始Tkinter的主循环\n",
    "root.mainloop()\n"
   ]
  },
  {
   "cell_type": "code",
   "execution_count": null,
   "metadata": {},
   "outputs": [],
   "source": []
  }
 ],
 "metadata": {
  "kernelspec": {
   "display_name": "torch3.9",
   "language": "python",
   "name": "python3"
  },
  "language_info": {
   "codemirror_mode": {
    "name": "ipython",
    "version": 3
   },
   "file_extension": ".py",
   "mimetype": "text/x-python",
   "name": "python",
   "nbconvert_exporter": "python",
   "pygments_lexer": "ipython3",
   "version": "3.10.11"
  },
  "orig_nbformat": 4
 },
 "nbformat": 4,
 "nbformat_minor": 2
}
